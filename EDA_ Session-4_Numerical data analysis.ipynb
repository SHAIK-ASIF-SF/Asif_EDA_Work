{
 "cells": [
  {
   "cell_type": "code",
   "execution_count": 1,
   "id": "309a2bbd",
   "metadata": {},
   "outputs": [
    {
     "data": {
      "text/html": [
       "<div>\n",
       "<style scoped>\n",
       "    .dataframe tbody tr th:only-of-type {\n",
       "        vertical-align: middle;\n",
       "    }\n",
       "\n",
       "    .dataframe tbody tr th {\n",
       "        vertical-align: top;\n",
       "    }\n",
       "\n",
       "    .dataframe thead th {\n",
       "        text-align: right;\n",
       "    }\n",
       "</style>\n",
       "<table border=\"1\" class=\"dataframe\">\n",
       "  <thead>\n",
       "    <tr style=\"text-align: right;\">\n",
       "      <th></th>\n",
       "      <th>case_id</th>\n",
       "      <th>continent</th>\n",
       "      <th>education_of_employee</th>\n",
       "      <th>has_job_experience</th>\n",
       "      <th>requires_job_training</th>\n",
       "      <th>no_of_employees</th>\n",
       "      <th>yr_of_estab</th>\n",
       "      <th>region_of_employment</th>\n",
       "      <th>prevailing_wage</th>\n",
       "      <th>unit_of_wage</th>\n",
       "      <th>full_time_position</th>\n",
       "      <th>case_status</th>\n",
       "    </tr>\n",
       "  </thead>\n",
       "  <tbody>\n",
       "    <tr>\n",
       "      <th>0</th>\n",
       "      <td>EZYV01</td>\n",
       "      <td>Asia</td>\n",
       "      <td>High School</td>\n",
       "      <td>N</td>\n",
       "      <td>N</td>\n",
       "      <td>14513</td>\n",
       "      <td>2007</td>\n",
       "      <td>West</td>\n",
       "      <td>592.2029</td>\n",
       "      <td>Hour</td>\n",
       "      <td>Y</td>\n",
       "      <td>Denied</td>\n",
       "    </tr>\n",
       "    <tr>\n",
       "      <th>1</th>\n",
       "      <td>EZYV02</td>\n",
       "      <td>Asia</td>\n",
       "      <td>Master's</td>\n",
       "      <td>Y</td>\n",
       "      <td>N</td>\n",
       "      <td>2412</td>\n",
       "      <td>2002</td>\n",
       "      <td>Northeast</td>\n",
       "      <td>83425.6500</td>\n",
       "      <td>Year</td>\n",
       "      <td>Y</td>\n",
       "      <td>Certified</td>\n",
       "    </tr>\n",
       "    <tr>\n",
       "      <th>2</th>\n",
       "      <td>EZYV03</td>\n",
       "      <td>Asia</td>\n",
       "      <td>Bachelor's</td>\n",
       "      <td>N</td>\n",
       "      <td>Y</td>\n",
       "      <td>44444</td>\n",
       "      <td>2008</td>\n",
       "      <td>West</td>\n",
       "      <td>122996.8600</td>\n",
       "      <td>Year</td>\n",
       "      <td>Y</td>\n",
       "      <td>Denied</td>\n",
       "    </tr>\n",
       "  </tbody>\n",
       "</table>\n",
       "</div>"
      ],
      "text/plain": [
       "  case_id continent education_of_employee has_job_experience  \\\n",
       "0  EZYV01      Asia           High School                  N   \n",
       "1  EZYV02      Asia              Master's                  Y   \n",
       "2  EZYV03      Asia            Bachelor's                  N   \n",
       "\n",
       "  requires_job_training  no_of_employees  yr_of_estab region_of_employment  \\\n",
       "0                     N            14513         2007                 West   \n",
       "1                     N             2412         2002            Northeast   \n",
       "2                     Y            44444         2008                 West   \n",
       "\n",
       "   prevailing_wage unit_of_wage full_time_position case_status  \n",
       "0         592.2029         Hour                  Y      Denied  \n",
       "1       83425.6500         Year                  Y   Certified  \n",
       "2      122996.8600         Year                  Y      Denied  "
      ]
     },
     "execution_count": 1,
     "metadata": {},
     "output_type": "execute_result"
    }
   ],
   "source": [
    "#Import packages and read the data\n",
    "import numpy as np\n",
    "import pandas as pd\n",
    "import matplotlib.pyplot as plt\n",
    "import seaborn as sns\n",
    "path=r\"C:\\Users\\shaik\\OneDrive\\Documents\\users\\Data Science\\Python\\EDA\\Visadataset - Visadataset.csv\"\n",
    "visa_df=pd.read_csv(path)\n",
    "visa_df.head(3)"
   ]
  },
  {
   "cell_type": "code",
   "execution_count": 2,
   "id": "7e73c2d2",
   "metadata": {},
   "outputs": [
    {
     "data": {
      "text/plain": [
       "Index(['case_id', 'continent', 'education_of_employee', 'has_job_experience',\n",
       "       'requires_job_training', 'no_of_employees', 'yr_of_estab',\n",
       "       'region_of_employment', 'prevailing_wage', 'unit_of_wage',\n",
       "       'full_time_position', 'case_status'],\n",
       "      dtype='object')"
      ]
     },
     "execution_count": 2,
     "metadata": {},
     "output_type": "execute_result"
    }
   ],
   "source": [
    "visa_df.columns"
   ]
  },
  {
   "cell_type": "code",
   "execution_count": 3,
   "id": "1e4cefb2",
   "metadata": {},
   "outputs": [
    {
     "data": {
      "text/plain": [
       "Index(['no_of_employees', 'yr_of_estab', 'prevailing_wage'], dtype='object')"
      ]
     },
     "execution_count": 3,
     "metadata": {},
     "output_type": "execute_result"
    }
   ],
   "source": [
    "visa_df.select_dtypes(exclude='object').columns"
   ]
  },
  {
   "cell_type": "markdown",
   "id": "6a022370",
   "metadata": {},
   "source": [
    "$prevalingwage$"
   ]
  },
  {
   "cell_type": "markdown",
   "id": "dcc74672",
   "metadata": {},
   "source": [
    "- In the numerical analysis\n",
    "- mean median sid count 25p 50p"
   ]
  },
  {
   "cell_type": "code",
   "execution_count": 4,
   "id": "49656f27",
   "metadata": {},
   "outputs": [
    {
     "data": {
      "text/plain": [
       "0           592.2029\n",
       "1         83425.6500\n",
       "2        122996.8600\n",
       "3         83434.0300\n",
       "4        149907.3900\n",
       "            ...     \n",
       "25475     77092.5700\n",
       "25476    279174.7900\n",
       "25477    146298.8500\n",
       "25478     86154.7700\n",
       "25479     70876.9100\n",
       "Name: prevailing_wage, Length: 25480, dtype: float64"
      ]
     },
     "execution_count": 4,
     "metadata": {},
     "output_type": "execute_result"
    }
   ],
   "source": [
    "visa_df['prevailing_wage']"
   ]
  },
  {
   "cell_type": "markdown",
   "id": "9b247db4",
   "metadata": {},
   "source": [
    "$count$"
   ]
  },
  {
   "cell_type": "code",
   "execution_count": 5,
   "id": "e2a8903c",
   "metadata": {},
   "outputs": [
    {
     "data": {
      "text/plain": [
       "25480"
      ]
     },
     "execution_count": 5,
     "metadata": {},
     "output_type": "execute_result"
    }
   ],
   "source": [
    "len(visa_df['prevailing_wage'])"
   ]
  },
  {
   "cell_type": "code",
   "execution_count": 6,
   "id": "572cbf70",
   "metadata": {},
   "outputs": [
    {
     "data": {
      "text/plain": [
       "25480"
      ]
     },
     "execution_count": 6,
     "metadata": {},
     "output_type": "execute_result"
    }
   ],
   "source": [
    "visa_df['prevailing_wage'].count()"
   ]
  },
  {
   "cell_type": "markdown",
   "id": "e0507273",
   "metadata": {},
   "source": [
    "$mean$"
   ]
  },
  {
   "cell_type": "code",
   "execution_count": 7,
   "id": "85a01f9a",
   "metadata": {},
   "outputs": [
    {
     "data": {
      "text/plain": [
       "74455.81459209183"
      ]
     },
     "execution_count": 7,
     "metadata": {},
     "output_type": "execute_result"
    }
   ],
   "source": [
    "visa_df['prevailing_wage'].mean() # pandas"
   ]
  },
  {
   "cell_type": "code",
   "execution_count": 8,
   "id": "555fc255",
   "metadata": {},
   "outputs": [
    {
     "data": {
      "text/plain": [
       "74455.81459209183"
      ]
     },
     "execution_count": 8,
     "metadata": {},
     "output_type": "execute_result"
    }
   ],
   "source": [
    "np.mean(visa_df['prevailing_wage'])"
   ]
  },
  {
   "cell_type": "code",
   "execution_count": 9,
   "id": "a5423816",
   "metadata": {},
   "outputs": [
    {
     "data": {
      "text/plain": [
       "74455.81459209183"
      ]
     },
     "execution_count": 9,
     "metadata": {},
     "output_type": "execute_result"
    }
   ],
   "source": [
    "np.mean(visa_df['prevailing_wage'])"
   ]
  },
  {
   "cell_type": "markdown",
   "id": "3d04ae7d",
   "metadata": {},
   "source": [
    "$median$"
   ]
  },
  {
   "cell_type": "code",
   "execution_count": 10,
   "id": "454ab65e",
   "metadata": {},
   "outputs": [
    {
     "data": {
      "text/plain": [
       "70308.20999999999"
      ]
     },
     "execution_count": 10,
     "metadata": {},
     "output_type": "execute_result"
    }
   ],
   "source": [
    "visa_df['prevailing_wage'].median()"
   ]
  },
  {
   "cell_type": "code",
   "execution_count": 11,
   "id": "345737f3",
   "metadata": {},
   "outputs": [
    {
     "data": {
      "text/plain": [
       "70308.20999999999"
      ]
     },
     "execution_count": 11,
     "metadata": {},
     "output_type": "execute_result"
    }
   ],
   "source": [
    "np.median(visa_df['prevailing_wage'])"
   ]
  },
  {
   "cell_type": "markdown",
   "id": "384374da",
   "metadata": {},
   "source": [
    "$max$"
   ]
  },
  {
   "cell_type": "code",
   "execution_count": 12,
   "id": "828732ab",
   "metadata": {},
   "outputs": [
    {
     "data": {
      "text/plain": [
       "319210.27"
      ]
     },
     "execution_count": 12,
     "metadata": {},
     "output_type": "execute_result"
    }
   ],
   "source": [
    "visa_df['prevailing_wage'].max()"
   ]
  },
  {
   "cell_type": "code",
   "execution_count": 13,
   "id": "e0647ded",
   "metadata": {},
   "outputs": [
    {
     "data": {
      "text/plain": [
       "319210.27"
      ]
     },
     "execution_count": 13,
     "metadata": {},
     "output_type": "execute_result"
    }
   ],
   "source": [
    "np.max(visa_df['prevailing_wage'])"
   ]
  },
  {
   "cell_type": "markdown",
   "id": "df867fb8",
   "metadata": {},
   "source": [
    "$min$"
   ]
  },
  {
   "cell_type": "code",
   "execution_count": 14,
   "id": "1b4ea75e",
   "metadata": {},
   "outputs": [
    {
     "data": {
      "text/plain": [
       "2.1367"
      ]
     },
     "execution_count": 14,
     "metadata": {},
     "output_type": "execute_result"
    }
   ],
   "source": [
    "visa_df['prevailing_wage'].min()"
   ]
  },
  {
   "cell_type": "code",
   "execution_count": 15,
   "id": "6b4d9961",
   "metadata": {},
   "outputs": [
    {
     "data": {
      "text/plain": [
       "2.1367"
      ]
     },
     "execution_count": 15,
     "metadata": {},
     "output_type": "execute_result"
    }
   ],
   "source": [
    "np.min(visa_df['prevailing_wage'])"
   ]
  },
  {
   "cell_type": "markdown",
   "id": "64e081d1",
   "metadata": {},
   "source": [
    "$std$"
   ]
  },
  {
   "cell_type": "code",
   "execution_count": 16,
   "id": "c7936425",
   "metadata": {},
   "outputs": [
    {
     "data": {
      "text/plain": [
       "52815.94232687357"
      ]
     },
     "execution_count": 16,
     "metadata": {},
     "output_type": "execute_result"
    }
   ],
   "source": [
    "visa_df['prevailing_wage'].std()"
   ]
  },
  {
   "cell_type": "code",
   "execution_count": 17,
   "id": "277576a1",
   "metadata": {},
   "outputs": [
    {
     "data": {
      "text/html": [
       "<div>\n",
       "<style scoped>\n",
       "    .dataframe tbody tr th:only-of-type {\n",
       "        vertical-align: middle;\n",
       "    }\n",
       "\n",
       "    .dataframe tbody tr th {\n",
       "        vertical-align: top;\n",
       "    }\n",
       "\n",
       "    .dataframe thead th {\n",
       "        text-align: right;\n",
       "    }\n",
       "</style>\n",
       "<table border=\"1\" class=\"dataframe\">\n",
       "  <thead>\n",
       "    <tr style=\"text-align: right;\">\n",
       "      <th></th>\n",
       "      <th>prevailing_wage</th>\n",
       "    </tr>\n",
       "  </thead>\n",
       "  <tbody>\n",
       "    <tr>\n",
       "      <th>count</th>\n",
       "      <td>25480.00</td>\n",
       "    </tr>\n",
       "    <tr>\n",
       "      <th>max</th>\n",
       "      <td>319210.27</td>\n",
       "    </tr>\n",
       "    <tr>\n",
       "      <th>min</th>\n",
       "      <td>2.14</td>\n",
       "    </tr>\n",
       "    <tr>\n",
       "      <th>mean</th>\n",
       "      <td>74455.81</td>\n",
       "    </tr>\n",
       "    <tr>\n",
       "      <th>median</th>\n",
       "      <td>70308.21</td>\n",
       "    </tr>\n",
       "    <tr>\n",
       "      <th>std</th>\n",
       "      <td>52815.94</td>\n",
       "    </tr>\n",
       "  </tbody>\n",
       "</table>\n",
       "</div>"
      ],
      "text/plain": [
       "        prevailing_wage\n",
       "count          25480.00\n",
       "max           319210.27\n",
       "min                2.14\n",
       "mean           74455.81\n",
       "median         70308.21\n",
       "std            52815.94"
      ]
     },
     "execution_count": 17,
     "metadata": {},
     "output_type": "execute_result"
    }
   ],
   "source": [
    "## all together\n",
    "wage_count=round(visa_df['prevailing_wage'].count(),2)\n",
    "wage_max=round(visa_df['prevailing_wage'].max(),2)\n",
    "wage_min=round(visa_df['prevailing_wage'].min(),2)\n",
    "wage_mean=round(visa_df['prevailing_wage'].mean(),2)\n",
    "wage_median=round(visa_df['prevailing_wage'].median(),2)\n",
    "wage_std=round(visa_df['prevailing_wage'].std(),2)\n",
    "\n",
    "l=[wage_count,wage_max,wage_min,wage_mean,wage_median,wage_std]\n",
    "cols=['prevailing_wage']\n",
    "index=['count','max','min','mean','median','std']\n",
    "pd.DataFrame(l,columns=cols,index=index)"
   ]
  },
  {
   "cell_type": "markdown",
   "id": "2b32df66",
   "metadata": {},
   "source": [
    "$percentile-quantile$"
   ]
  },
  {
   "cell_type": "markdown",
   "id": "1ac1b565",
   "metadata": {},
   "source": [
    "- perecntile and quantile available in numpy\n",
    "- np.percentile()\n",
    "   - column name\n",
    "   - percentile value between 0 to 100\n",
    "- np.quantile()\n",
    "   - column name\n",
    "   - 0 to 1\n",
    "- In quantile 0.25 means 25 in percentile"
   ]
  },
  {
   "cell_type": "code",
   "execution_count": 18,
   "id": "39955862",
   "metadata": {},
   "outputs": [
    {
     "data": {
      "text/plain": [
       "34015.479999999996"
      ]
     },
     "execution_count": 18,
     "metadata": {},
     "output_type": "execute_result"
    }
   ],
   "source": [
    "np.percentile(visa_df['prevailing_wage'],25)"
   ]
  },
  {
   "cell_type": "code",
   "execution_count": 19,
   "id": "3cf5c099",
   "metadata": {},
   "outputs": [
    {
     "data": {
      "text/plain": [
       "34015.479999999996"
      ]
     },
     "execution_count": 19,
     "metadata": {},
     "output_type": "execute_result"
    }
   ],
   "source": [
    "np.quantile(visa_df['prevailing_wage'],0.25)"
   ]
  },
  {
   "cell_type": "markdown",
   "id": "3d9382d0",
   "metadata": {},
   "source": [
    "#### what is the mean of 25percentile=34015.47\n",
    "\n",
    "- 25percentage of total data has wage less than 34014.47\n",
    "- Find 25percentage of total data =25*25480/100= 6370\n",
    "- 6370 person wages has less than 34014"
   ]
  },
  {
   "cell_type": "code",
   "execution_count": 20,
   "id": "a28f9b08",
   "metadata": {},
   "outputs": [
    {
     "data": {
      "text/plain": [
       "6370"
      ]
     },
     "execution_count": 20,
     "metadata": {},
     "output_type": "execute_result"
    }
   ],
   "source": [
    "con=visa_df['prevailing_wage']<34014\n",
    "len(visa_df[con])"
   ]
  },
  {
   "cell_type": "code",
   "execution_count": 21,
   "id": "67b618a5",
   "metadata": {},
   "outputs": [
    {
     "data": {
      "text/plain": [
       "12740"
      ]
     },
     "execution_count": 21,
     "metadata": {},
     "output_type": "execute_result"
    }
   ],
   "source": [
    "# Can you valid quickly for 50p data\n",
    "wage_50=np.percentile(visa_df['prevailing_wage'],50)\n",
    "con=visa_df['prevailing_wage']<wage_50\n",
    "len(visa_df[con])"
   ]
  },
  {
   "cell_type": "code",
   "execution_count": 22,
   "id": "1a77adeb",
   "metadata": {},
   "outputs": [
    {
     "data": {
      "text/html": [
       "<div>\n",
       "<style scoped>\n",
       "    .dataframe tbody tr th:only-of-type {\n",
       "        vertical-align: middle;\n",
       "    }\n",
       "\n",
       "    .dataframe tbody tr th {\n",
       "        vertical-align: top;\n",
       "    }\n",
       "\n",
       "    .dataframe thead th {\n",
       "        text-align: right;\n",
       "    }\n",
       "</style>\n",
       "<table border=\"1\" class=\"dataframe\">\n",
       "  <thead>\n",
       "    <tr style=\"text-align: right;\">\n",
       "      <th></th>\n",
       "      <th>prevailing_wage</th>\n",
       "    </tr>\n",
       "  </thead>\n",
       "  <tbody>\n",
       "    <tr>\n",
       "      <th>count</th>\n",
       "      <td>25480.0000</td>\n",
       "    </tr>\n",
       "    <tr>\n",
       "      <th>max</th>\n",
       "      <td>319210.2700</td>\n",
       "    </tr>\n",
       "    <tr>\n",
       "      <th>min</th>\n",
       "      <td>2.1400</td>\n",
       "    </tr>\n",
       "    <tr>\n",
       "      <th>mean</th>\n",
       "      <td>74455.8100</td>\n",
       "    </tr>\n",
       "    <tr>\n",
       "      <th>median</th>\n",
       "      <td>70308.2100</td>\n",
       "    </tr>\n",
       "    <tr>\n",
       "      <th>std</th>\n",
       "      <td>52815.9400</td>\n",
       "    </tr>\n",
       "    <tr>\n",
       "      <th>25%</th>\n",
       "      <td>34015.4800</td>\n",
       "    </tr>\n",
       "    <tr>\n",
       "      <th>50%</th>\n",
       "      <td>70308.2100</td>\n",
       "    </tr>\n",
       "    <tr>\n",
       "      <th>75%</th>\n",
       "      <td>107735.5125</td>\n",
       "    </tr>\n",
       "  </tbody>\n",
       "</table>\n",
       "</div>"
      ],
      "text/plain": [
       "        prevailing_wage\n",
       "count        25480.0000\n",
       "max         319210.2700\n",
       "min              2.1400\n",
       "mean         74455.8100\n",
       "median       70308.2100\n",
       "std          52815.9400\n",
       "25%          34015.4800\n",
       "50%          70308.2100\n",
       "75%         107735.5125"
      ]
     },
     "execution_count": 22,
     "metadata": {},
     "output_type": "execute_result"
    }
   ],
   "source": [
    "## all together\n",
    "wage_count=round(visa_df['prevailing_wage'].count(),2)\n",
    "wage_max=round(visa_df['prevailing_wage'].max(),2)\n",
    "wage_min=round(visa_df['prevailing_wage'].min(),2)\n",
    "wage_mean=round(visa_df['prevailing_wage'].mean(),2)\n",
    "wage_median=round(visa_df['prevailing_wage'].median(),2)\n",
    "wage_std=round(visa_df['prevailing_wage'].std(),2)\n",
    "wage_25=np.percentile(visa_df['prevailing_wage'],25)\n",
    "wage_50=np.percentile(visa_df['prevailing_wage'],50)\n",
    "wage_75=np.percentile(visa_df['prevailing_wage'],75)\n",
    "\n",
    "l=[wage_count,wage_max,wage_min,\n",
    "  wage_mean,wage_median,wage_std,\n",
    " wage_25,wage_50,wage_75]\n",
    "cols=['prevailing_wage']\n",
    "index=['count','max','min',\n",
    "       'mean','median','std',\n",
    "       '25%','50%','75%']\n",
    "pd.DataFrame(l,columns=cols,index=index)"
   ]
  },
  {
   "cell_type": "code",
   "execution_count": 23,
   "id": "2ecef354",
   "metadata": {},
   "outputs": [
    {
     "data": {
      "text/html": [
       "<div>\n",
       "<style scoped>\n",
       "    .dataframe tbody tr th:only-of-type {\n",
       "        vertical-align: middle;\n",
       "    }\n",
       "\n",
       "    .dataframe tbody tr th {\n",
       "        vertical-align: top;\n",
       "    }\n",
       "\n",
       "    .dataframe thead th {\n",
       "        text-align: right;\n",
       "    }\n",
       "</style>\n",
       "<table border=\"1\" class=\"dataframe\">\n",
       "  <thead>\n",
       "    <tr style=\"text-align: right;\">\n",
       "      <th></th>\n",
       "      <th>no_of_employees</th>\n",
       "      <th>yr_of_estab</th>\n",
       "      <th>prevailing_wage</th>\n",
       "    </tr>\n",
       "  </thead>\n",
       "  <tbody>\n",
       "    <tr>\n",
       "      <th>count</th>\n",
       "      <td>25480.000000</td>\n",
       "      <td>25480.000000</td>\n",
       "      <td>25480.000000</td>\n",
       "    </tr>\n",
       "    <tr>\n",
       "      <th>mean</th>\n",
       "      <td>5667.043210</td>\n",
       "      <td>1979.409929</td>\n",
       "      <td>74455.814592</td>\n",
       "    </tr>\n",
       "    <tr>\n",
       "      <th>std</th>\n",
       "      <td>22877.928848</td>\n",
       "      <td>42.366929</td>\n",
       "      <td>52815.942327</td>\n",
       "    </tr>\n",
       "    <tr>\n",
       "      <th>min</th>\n",
       "      <td>-26.000000</td>\n",
       "      <td>1800.000000</td>\n",
       "      <td>2.136700</td>\n",
       "    </tr>\n",
       "    <tr>\n",
       "      <th>25%</th>\n",
       "      <td>1022.000000</td>\n",
       "      <td>1976.000000</td>\n",
       "      <td>34015.480000</td>\n",
       "    </tr>\n",
       "    <tr>\n",
       "      <th>50%</th>\n",
       "      <td>2109.000000</td>\n",
       "      <td>1997.000000</td>\n",
       "      <td>70308.210000</td>\n",
       "    </tr>\n",
       "    <tr>\n",
       "      <th>75%</th>\n",
       "      <td>3504.000000</td>\n",
       "      <td>2005.000000</td>\n",
       "      <td>107735.512500</td>\n",
       "    </tr>\n",
       "    <tr>\n",
       "      <th>max</th>\n",
       "      <td>602069.000000</td>\n",
       "      <td>2016.000000</td>\n",
       "      <td>319210.270000</td>\n",
       "    </tr>\n",
       "  </tbody>\n",
       "</table>\n",
       "</div>"
      ],
      "text/plain": [
       "       no_of_employees   yr_of_estab  prevailing_wage\n",
       "count     25480.000000  25480.000000     25480.000000\n",
       "mean       5667.043210   1979.409929     74455.814592\n",
       "std       22877.928848     42.366929     52815.942327\n",
       "min         -26.000000   1800.000000         2.136700\n",
       "25%        1022.000000   1976.000000     34015.480000\n",
       "50%        2109.000000   1997.000000     70308.210000\n",
       "75%        3504.000000   2005.000000    107735.512500\n",
       "max      602069.000000   2016.000000    319210.270000"
      ]
     },
     "execution_count": 23,
     "metadata": {},
     "output_type": "execute_result"
    }
   ],
   "source": [
    "visa_df.describe()\n",
    "# 3 numerical columns"
   ]
  },
  {
   "cell_type": "code",
   "execution_count": 24,
   "id": "cedd2199",
   "metadata": {},
   "outputs": [
    {
     "name": "stdout",
     "output_type": "stream",
     "text": [
      "[[25480, 602069, -26, 5667.04, 2109.0, 22877.93, 1022.0, 2109.0, 3504.0], [25480, 2016, 1800, 1979.41, 1997.0, 42.37, 1976.0, 1997.0, 2005.0], [25480, 319210.27, 2.14, 74455.81, 70308.21, 52815.94, 34015.479999999996, 70308.20999999999, 107735.51250000001]]\n"
     ]
    },
    {
     "data": {
      "text/html": [
       "<div>\n",
       "<style scoped>\n",
       "    .dataframe tbody tr th:only-of-type {\n",
       "        vertical-align: middle;\n",
       "    }\n",
       "\n",
       "    .dataframe tbody tr th {\n",
       "        vertical-align: top;\n",
       "    }\n",
       "\n",
       "    .dataframe thead th {\n",
       "        text-align: right;\n",
       "    }\n",
       "</style>\n",
       "<table border=\"1\" class=\"dataframe\">\n",
       "  <thead>\n",
       "    <tr style=\"text-align: right;\">\n",
       "      <th></th>\n",
       "      <th>no_of_employees</th>\n",
       "      <th>yr_of_estab</th>\n",
       "      <th>prevailing_wage</th>\n",
       "    </tr>\n",
       "  </thead>\n",
       "  <tbody>\n",
       "    <tr>\n",
       "      <th>count</th>\n",
       "      <td>25480.00</td>\n",
       "      <td>25480.00</td>\n",
       "      <td>25480.0000</td>\n",
       "    </tr>\n",
       "    <tr>\n",
       "      <th>max</th>\n",
       "      <td>602069.00</td>\n",
       "      <td>2016.00</td>\n",
       "      <td>319210.2700</td>\n",
       "    </tr>\n",
       "    <tr>\n",
       "      <th>min</th>\n",
       "      <td>-26.00</td>\n",
       "      <td>1800.00</td>\n",
       "      <td>2.1400</td>\n",
       "    </tr>\n",
       "    <tr>\n",
       "      <th>mean</th>\n",
       "      <td>5667.04</td>\n",
       "      <td>1979.41</td>\n",
       "      <td>74455.8100</td>\n",
       "    </tr>\n",
       "    <tr>\n",
       "      <th>median</th>\n",
       "      <td>2109.00</td>\n",
       "      <td>1997.00</td>\n",
       "      <td>70308.2100</td>\n",
       "    </tr>\n",
       "    <tr>\n",
       "      <th>std</th>\n",
       "      <td>22877.93</td>\n",
       "      <td>42.37</td>\n",
       "      <td>52815.9400</td>\n",
       "    </tr>\n",
       "    <tr>\n",
       "      <th>25%</th>\n",
       "      <td>1022.00</td>\n",
       "      <td>1976.00</td>\n",
       "      <td>34015.4800</td>\n",
       "    </tr>\n",
       "    <tr>\n",
       "      <th>50%</th>\n",
       "      <td>2109.00</td>\n",
       "      <td>1997.00</td>\n",
       "      <td>70308.2100</td>\n",
       "    </tr>\n",
       "    <tr>\n",
       "      <th>75%</th>\n",
       "      <td>3504.00</td>\n",
       "      <td>2005.00</td>\n",
       "      <td>107735.5125</td>\n",
       "    </tr>\n",
       "  </tbody>\n",
       "</table>\n",
       "</div>"
      ],
      "text/plain": [
       "        no_of_employees  yr_of_estab  prevailing_wage\n",
       "count          25480.00     25480.00       25480.0000\n",
       "max           602069.00      2016.00      319210.2700\n",
       "min              -26.00      1800.00           2.1400\n",
       "mean            5667.04      1979.41       74455.8100\n",
       "median          2109.00      1997.00       70308.2100\n",
       "std            22877.93        42.37       52815.9400\n",
       "25%             1022.00      1976.00       34015.4800\n",
       "50%             2109.00      1997.00       70308.2100\n",
       "75%             3504.00      2005.00      107735.5125"
      ]
     },
     "execution_count": 24,
     "metadata": {},
     "output_type": "execute_result"
    }
   ],
   "source": [
    "## all together\n",
    "cols=visa_df.select_dtypes(exclude='object').columns\n",
    "l=[]\n",
    "for i in cols:\n",
    "    count=round(visa_df[i].count(),2)\n",
    "    maxx=round(visa_df[i].max(),2)\n",
    "    minn=round(visa_df[i].min(),2)\n",
    "    mean=round(visa_df[i].mean(),2)\n",
    "    median=round(visa_df[i].median(),2)\n",
    "    std=round(visa_df[i].std(),2)\n",
    "    p_25=np.percentile(visa_df[i],25)\n",
    "    p_50=np.percentile(visa_df[i],50)\n",
    "    p_75=np.percentile(visa_df[i],75)\n",
    "    \n",
    "    l.append([count,maxx,minn,mean,median,std,\n",
    "            p_25,p_50,p_75])\n",
    "    \n",
    "print(l)\n",
    "index=['count','max','min',\n",
    "       'mean','median','std',\n",
    "       '25%','50%','75%']\n",
    "pd.DataFrame(zip(l[0],l[1],l[2]),columns=cols,index=index)"
   ]
  },
  {
   "cell_type": "code",
   "execution_count": 25,
   "id": "d6e93132",
   "metadata": {},
   "outputs": [],
   "source": [
    "# import packages\n",
    "\n",
    "import pandas as pd\n",
    "import numpy as np\n",
    "import matplotlib.pylab as plt\n",
    "import seaborn as sns"
   ]
  },
  {
   "cell_type": "code",
   "execution_count": 27,
   "id": "24423530",
   "metadata": {},
   "outputs": [
    {
     "data": {
      "text/html": [
       "<div>\n",
       "<style scoped>\n",
       "    .dataframe tbody tr th:only-of-type {\n",
       "        vertical-align: middle;\n",
       "    }\n",
       "\n",
       "    .dataframe tbody tr th {\n",
       "        vertical-align: top;\n",
       "    }\n",
       "\n",
       "    .dataframe thead th {\n",
       "        text-align: right;\n",
       "    }\n",
       "</style>\n",
       "<table border=\"1\" class=\"dataframe\">\n",
       "  <thead>\n",
       "    <tr style=\"text-align: right;\">\n",
       "      <th></th>\n",
       "      <th>case_id</th>\n",
       "      <th>continent</th>\n",
       "      <th>education_of_employee</th>\n",
       "      <th>has_job_experience</th>\n",
       "      <th>requires_job_training</th>\n",
       "      <th>no_of_employees</th>\n",
       "      <th>yr_of_estab</th>\n",
       "      <th>region_of_employment</th>\n",
       "      <th>prevailing_wage</th>\n",
       "      <th>unit_of_wage</th>\n",
       "      <th>full_time_position</th>\n",
       "      <th>case_status</th>\n",
       "    </tr>\n",
       "  </thead>\n",
       "  <tbody>\n",
       "    <tr>\n",
       "      <th>0</th>\n",
       "      <td>EZYV01</td>\n",
       "      <td>Asia</td>\n",
       "      <td>High School</td>\n",
       "      <td>N</td>\n",
       "      <td>N</td>\n",
       "      <td>14513</td>\n",
       "      <td>2007</td>\n",
       "      <td>West</td>\n",
       "      <td>592.2029</td>\n",
       "      <td>Hour</td>\n",
       "      <td>Y</td>\n",
       "      <td>Denied</td>\n",
       "    </tr>\n",
       "    <tr>\n",
       "      <th>1</th>\n",
       "      <td>EZYV02</td>\n",
       "      <td>Asia</td>\n",
       "      <td>Master's</td>\n",
       "      <td>Y</td>\n",
       "      <td>N</td>\n",
       "      <td>2412</td>\n",
       "      <td>2002</td>\n",
       "      <td>Northeast</td>\n",
       "      <td>83425.6500</td>\n",
       "      <td>Year</td>\n",
       "      <td>Y</td>\n",
       "      <td>Certified</td>\n",
       "    </tr>\n",
       "    <tr>\n",
       "      <th>2</th>\n",
       "      <td>EZYV03</td>\n",
       "      <td>Asia</td>\n",
       "      <td>Bachelor's</td>\n",
       "      <td>N</td>\n",
       "      <td>Y</td>\n",
       "      <td>44444</td>\n",
       "      <td>2008</td>\n",
       "      <td>West</td>\n",
       "      <td>122996.8600</td>\n",
       "      <td>Year</td>\n",
       "      <td>Y</td>\n",
       "      <td>Denied</td>\n",
       "    </tr>\n",
       "  </tbody>\n",
       "</table>\n",
       "</div>"
      ],
      "text/plain": [
       "  case_id continent education_of_employee has_job_experience  \\\n",
       "0  EZYV01      Asia           High School                  N   \n",
       "1  EZYV02      Asia              Master's                  Y   \n",
       "2  EZYV03      Asia            Bachelor's                  N   \n",
       "\n",
       "  requires_job_training  no_of_employees  yr_of_estab region_of_employment  \\\n",
       "0                     N            14513         2007                 West   \n",
       "1                     N             2412         2002            Northeast   \n",
       "2                     Y            44444         2008                 West   \n",
       "\n",
       "   prevailing_wage unit_of_wage full_time_position case_status  \n",
       "0         592.2029         Hour                  Y      Denied  \n",
       "1       83425.6500         Year                  Y   Certified  \n",
       "2      122996.8600         Year                  Y      Denied  "
      ]
     },
     "execution_count": 27,
     "metadata": {},
     "output_type": "execute_result"
    }
   ],
   "source": [
    "path=r\"C:\\Users\\shaik\\OneDrive\\Documents\\users\\Data Science\\Python\\EDA\\Visadataset - Visadataset.csv\"\n",
    "visa_df=pd.read_csv(path)\n",
    "visa_df.head(3)"
   ]
  },
  {
   "cell_type": "markdown",
   "id": "b6575263",
   "metadata": {},
   "source": [
    "$Histogram$"
   ]
  },
  {
   "cell_type": "code",
   "execution_count": 30,
   "id": "34ad4eae",
   "metadata": {},
   "outputs": [
    {
     "data": {
      "image/png": "[encoded data removed]",
      "text/plain": [
       "<Figure size 640x480 with 1 Axes>"
      ]
     },
     "metadata": {},
     "output_type": "display_data"
    }
   ],
   "source": [
    "f,i,n=plt.hist(visa_df['prevailing_wage'],\n",
    "         bins=40)"
   ]
  },
  {
   "cell_type": "code",
   "execution_count": 31,
   "id": "6d681e85",
   "metadata": {},
   "outputs": [
    {
     "data": {
      "text/plain": [
       "(40, 41, 40)"
      ]
     },
     "execution_count": 31,
     "metadata": {},
     "output_type": "execute_result"
    }
   ],
   "source": [
    "len(f),len(i),len(n)"
   ]
  },
  {
   "cell_type": "code",
   "execution_count": null,
   "id": "50ad4148",
   "metadata": {},
   "outputs": [],
   "source": [
    "1 2 3 4 5 # four inter vels are there 4 spaces"
   ]
  },
  {
   "cell_type": "code",
   "execution_count": 32,
   "id": "259791ba",
   "metadata": {},
   "outputs": [
    {
     "data": {
      "text/plain": [
       "array([2992.,  871., 1005., 1170., 1242., 1434., 1385., 1443., 1444.,\n",
       "       1445., 1457., 1335., 1268., 1217., 1088.,  978.,  807.,  645.,\n",
       "        509.,  373.,  264.,  144.,  105.,  111.,  107.,   99.,   88.,\n",
       "         79.,   65.,   64.,   58.,   53.,   33.,   33.,   29.,   19.,\n",
       "          7.,    3.,    6.,    5.])"
      ]
     },
     "execution_count": 32,
     "metadata": {},
     "output_type": "execute_result"
    }
   ],
   "source": [
    "f"
   ]
  },
  {
   "cell_type": "code",
   "execution_count": 33,
   "id": "a9722d24",
   "metadata": {},
   "outputs": [
    {
     "data": {
      "text/plain": [
       "array([2.13670000e+00, 7.98234003e+03, 1.59625434e+04, 2.39427467e+04,\n",
       "       3.19229500e+04, 3.99031534e+04, 4.78833567e+04, 5.58635600e+04,\n",
       "       6.38437634e+04, 7.18239667e+04, 7.98041700e+04, 8.77843734e+04,\n",
       "       9.57645767e+04, 1.03744780e+05, 1.11724983e+05, 1.19705187e+05,\n",
       "       1.27685390e+05, 1.35665593e+05, 1.43645797e+05, 1.51626000e+05,\n",
       "       1.59606203e+05, 1.67586407e+05, 1.75566610e+05, 1.83546813e+05,\n",
       "       1.91527017e+05, 1.99507220e+05, 2.07487423e+05, 2.15467627e+05,\n",
       "       2.23447830e+05, 2.31428033e+05, 2.39408237e+05, 2.47388440e+05,\n",
       "       2.55368643e+05, 2.63348847e+05, 2.71329050e+05, 2.79309253e+05,\n",
       "       2.87289457e+05, 2.95269660e+05, 3.03249863e+05, 3.11230067e+05,\n",
       "       3.19210270e+05])"
      ]
     },
     "execution_count": 33,
     "metadata": {},
     "output_type": "execute_result"
    }
   ],
   "source": [
    "i"
   ]
  },
  {
   "cell_type": "code",
   "execution_count": null,
   "id": "0a76f371",
   "metadata": {},
   "outputs": [],
   "source": [
    "between 2.13670000e+00  to  7.98234003e+03\n",
    "we have 2992 observations\n",
    "between 7.  98234003e+03 to 1.59625434e+04\n",
    "we have 871 observations"
   ]
  },
  {
   "cell_type": "code",
   "execution_count": 35,
   "id": "92f16f47",
   "metadata": {},
   "outputs": [
    {
     "data": {
      "text/plain": [
       "2992"
      ]
     },
     "execution_count": 35,
     "metadata": {},
     "output_type": "execute_result"
    }
   ],
   "source": [
    "l=2.13670000e+00\n",
    "u=7.98234003e+03\n",
    "c1=visa_df['prevailing_wage']>=1\n",
    "c2=visa_df['prevailing_wage']<u\n",
    "c=c1&c2\n",
    "len(visa_df[c])"
   ]
  },
  {
   "cell_type": "code",
   "execution_count": 38,
   "id": "b86049cf",
   "metadata": {},
   "outputs": [
    {
     "name": "stdout",
     "output_type": "stream",
     "text": [
      "3863\n"
     ]
    }
   ],
   "source": [
    "def frequency(l,u):\n",
    "    c1=visa_df['prevailing_wage']>=1\n",
    "    c2=visa_df['prevailing_wage']<u\n",
    "    c=c1&c2\n",
    "    print(len(visa_df[c]))\n",
    "frequency(7.98234003e+03,1.59625434e+04)\n"
   ]
  },
  {
   "cell_type": "code",
   "execution_count": null,
   "id": "e23d6c4f",
   "metadata": {},
   "outputs": [],
   "source": [
    "# Task -1\n",
    "create a dataframe\n",
    "\n",
    "lower     upper    frequency\n",
    "2.136      7.98     2992"
   ]
  },
  {
   "cell_type": "code",
   "execution_count": 39,
   "id": "7dcae61f",
   "metadata": {},
   "outputs": [
    {
     "data": {
      "text/plain": [
       "11"
      ]
     },
     "execution_count": 39,
     "metadata": {},
     "output_type": "execute_result"
    }
   ],
   "source": [
    "l=2.136\n",
    "u=7.98\n",
    "c1=visa_df['prevailing_wage']>=1\n",
    "c2=visa_df['prevailing_wage']<u\n",
    "c=c1&c2\n",
    "len(visa_df[c])"
   ]
  },
  {
   "cell_type": "code",
   "execution_count": 41,
   "id": "634c2f0e",
   "metadata": {},
   "outputs": [
    {
     "name": "stdout",
     "output_type": "stream",
     "text": [
      "2448\n"
     ]
    }
   ],
   "source": [
    "def frequency(l,u):\n",
    "    c1=visa_df['prevailing_wage']>=1\n",
    "    c2=visa_df['prevailing_wage']<u\n",
    "    c=c1&c2\n",
    "    print(len(visa_df[c]))\n",
    "frequency(7.98,2992)"
   ]
  },
  {
   "cell_type": "code",
   "execution_count": null,
   "id": "c3a198c4",
   "metadata": {},
   "outputs": [],
   "source": [
    "# task 2\n",
    "# In seaborn hoe to plot histogram"
   ]
  },
  {
   "cell_type": "markdown",
   "id": "41d6e740",
   "metadata": {},
   "source": [
    "$Boxplot$\n",
    "\n",
    "- Boxplot is used to identify outliers\n",
    "\n",
    "- In box plot we have\n",
    "\n",
    "    - Q1 : 25p value\n",
    "        \n",
    "    - Q2 : 50p value\n",
    "        \n",
    "    - Q3: Q3-Q1\n",
    "        \n",
    "    - Mid outliers Q1-1.5*IQR and Q3+1.5IQR\n",
    "    \n",
    "    - huge outliers Q1-3IOR and Q3+3IQR"
   ]
  },
  {
   "cell_type": "code",
   "execution_count": null,
   "id": "6f292be4",
   "metadata": {},
   "outputs": [],
   "source": [
    "  Q1-1.5IQR   Q1   median  Q3   Q3+1.5IQR\n",
    "                       |-----:-----|\n",
    "       o      |--------|     :     |--------|    o  o\n",
    "                       |-----:-----|\n",
    "     flier             <----------->            fliers\n",
    "                            IQR"
   ]
  },
  {
   "cell_type": "code",
   "execution_count": 42,
   "id": "a6f9b585",
   "metadata": {},
   "outputs": [
    {
     "data": {
      "image/png": "[encoded data removed]",
      "text/plain": [
       "<Figure size 640x480 with 1 Axes>"
      ]
     },
     "metadata": {},
     "output_type": "display_data"
    }
   ],
   "source": [
    "plt.boxplot(visa_df['prevailing_wage'])\n",
    "plt.show()\n",
    "\n",
    "# block dots are outliers\n",
    "# orange line is median"
   ]
  },
  {
   "cell_type": "code",
   "execution_count": null,
   "id": "ad052c89",
   "metadata": {},
   "outputs": [],
   "source": []
  },
  {
   "cell_type": "code",
   "execution_count": null,
   "id": "78195ba7",
   "metadata": {},
   "outputs": [],
   "source": []
  },
  {
   "cell_type": "code",
   "execution_count": null,
   "id": "bae3e074",
   "metadata": {},
   "outputs": [],
   "source": []
  },
  {
   "cell_type": "code",
   "execution_count": null,
   "id": "35d45a10",
   "metadata": {},
   "outputs": [],
   "source": []
  },
  {
   "cell_type": "code",
   "execution_count": null,
   "id": "5916ccc2",
   "metadata": {},
   "outputs": [],
   "source": []
  },
  {
   "cell_type": "code",
   "execution_count": null,
   "id": "82fcb74c",
   "metadata": {},
   "outputs": [],
   "source": []
  }
 ],
 "metadata": {
  "kernelspec": {
   "display_name": "Python 3 (ipykernel)",
   "language": "python",
   "name": "python3"
  },
  "language_info": {
   "codemirror_mode": {
    "name": "ipython",
    "version": 3
   },
   "file_extension": ".py",
   "mimetype": "text/x-python",
   "name": "python",
   "nbconvert_exporter": "python",
   "pygments_lexer": "ipython3",
   "version": "3.11.5"
  }
 },
 "nbformat": 4,
 "nbformat_minor": 5
}
