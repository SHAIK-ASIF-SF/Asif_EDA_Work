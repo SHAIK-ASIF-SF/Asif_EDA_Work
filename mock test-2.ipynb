{
 "cells": [
  {
   "cell_type": "markdown",
   "id": "b3fafec8",
   "metadata": {},
   "source": [
    "##### 4).explain Central limit theoem by random data python"
   ]
  },
  {
   "cell_type": "code",
   "execution_count": null,
   "id": "b4f27a76",
   "metadata": {},
   "outputs": [],
   "source": [
    "for an exaple we h6+ave 1000 population and it does not follows \n",
    "normalizations than we have to divide into  1000 population into\n",
    "20 samples we have to each sample has 50 observations \n",
    "we try to draw basedn on values after that we draw a and after\n",
    "its follwsnormal distribution it is called central limit theorem"
   ]
  },
  {
   "cell_type": "markdown",
   "id": "5a970071",
   "metadata": {},
   "source": [
    "#### 1)"
   ]
  },
  {
   "cell_type": "code",
   "execution_count": 1,
   "id": "aa4572a6",
   "metadata": {},
   "outputs": [],
   "source": [
    "import pandas as pd\n",
    "import numpy as np"
   ]
  },
  {
   "cell_type": "code",
   "execution_count": 2,
   "id": "9822eb59",
   "metadata": {},
   "outputs": [
    {
     "name": "stdout",
     "output_type": "stream",
     "text": [
      "DataFrame with null values:\n",
      "     A    B   C\n",
      "0  1.0  5.0 NaN\n",
      "1  2.0  NaN NaN\n",
      "2  NaN  NaN NaN\n",
      "3  4.0  8.0 NaN\n",
      "\n",
      "DataFrame after filling null values:\n",
      "     A     B     C\n",
      "0  1.0   5.0  20.0\n",
      "1  2.0  10.0  20.0\n",
      "2  0.0  10.0  20.0\n",
      "3  4.0   8.0  20.0\n"
     ]
    }
   ],
   "source": [
    "data={'A':[1,2,np.nan,4],\n",
    "      'B':[5,np.nan,np.nan,8],\n",
    "      'C':[np.nan,np.nan,np.nan,np.nan]}\n",
    "df=pd.DataFrame(data)\n",
    "print(\"DataFrame with null values:\")\n",
    "print(df)\n",
    "filled_df=df.fillna({'A':0, 'B': 10, 'C':20})\n",
    "\n",
    "print(\"DataFrame after filling null values:\")\n",
    "print(filled_df)"
   ]
  },
  {
   "cell_type": "markdown",
   "id": "01a054ae",
   "metadata": {},
   "source": [
    "### 8)"
   ]
  },
  {
   "cell_type": "code",
   "execution_count": 6,
   "id": "3a7bacc5",
   "metadata": {},
   "outputs": [
    {
     "name": "stdout",
     "output_type": "stream",
     "text": [
      "Leap years between 1700 and 1986:\n",
      "[1704, 1708, 1712, 1716, 1720, 1724, 1728, 1732, 1736, 1740, 1744, 1748, 1752, 1756, 1760, 1764, 1768, 1772, 1776, 1780, 1784, 1788, 1792, 1796, 1804, 1808, 1812, 1816, 1820, 1824, 1828, 1832, 1836, 1840, 1844, 1848, 1852, 1856, 1860, 1864, 1868, 1872, 1876, 1880, 1884, 1888, 1892, 1896, 1904, 1908, 1912, 1916, 1920, 1924, 1928, 1932, 1936, 1940, 1944, 1948, 1952, 1956, 1960, 1964, 1968, 1972, 1976, 1980, 1984]\n",
      "Count of leap years: 69\n"
     ]
    }
   ],
   "source": [
    "def is_leap_year(year):\n",
    "    return (year % 4 == 0 and year % 100 != 0) or (year % 400 == 0)\n",
    "\n",
    "leap_years = []\n",
    "\n",
    "for year in range(1700, 1987):\n",
    "    if is_leap_year(year):\n",
    "        leap_years.append(year)\n",
    "\n",
    "print(\"Leap years between 1700 and 1986:\")\n",
    "print(leap_years)\n",
    "print(\"Count of leap years:\",\n",
    "len(leap_years))"
   ]
  },
  {
   "cell_type": "markdown",
   "id": "db3c738c",
   "metadata": {},
   "source": [
    "#### 9)"
   ]
  },
  {
   "cell_type": "code",
   "execution_count": 11,
   "id": "f727f5a3",
   "metadata": {},
   "outputs": [],
   "source": [
    "import pandas as pd"
   ]
  },
  {
   "cell_type": "code",
   "execution_count": 10,
   "id": "1a97e6ee",
   "metadata": {},
   "outputs": [
    {
     "name": "stdout",
     "output_type": "stream",
     "text": [
      "   Letter  ASCII value\n",
      "0       A           65\n",
      "1       B           66\n",
      "2       C           67\n",
      "3       D           68\n",
      "4       E           69\n",
      "5       F           70\n",
      "6       G           71\n",
      "7       H           72\n",
      "8       I           73\n",
      "9       J           74\n",
      "10      K           75\n",
      "11      L           76\n",
      "12      M           77\n",
      "13      N           78\n",
      "14      O           79\n",
      "15      P           80\n",
      "16      Q           81\n",
      "17      R           82\n",
      "18      S           83\n",
      "19      T           84\n",
      "20      U           85\n",
      "21      V           86\n",
      "22      W           87\n",
      "23      X           88\n",
      "24      Y           89\n",
      "25      Z           90\n"
     ]
    }
   ],
   "source": [
    "letters = [chr(i) for i in range(65, 91)]\n",
    "ascii_values = [ord(letter) for letter in letters]\n",
    "\n",
    "df = pd.DataFrame({'Letter': letters, 'ASCII value': ascii_values})\n",
    "print(df)"
   ]
  },
  {
   "cell_type": "markdown",
   "id": "e4e861ef",
   "metadata": {},
   "source": [
    "##### 10)"
   ]
  },
  {
   "cell_type": "code",
   "execution_count": 1,
   "id": "10f51b3c",
   "metadata": {},
   "outputs": [
    {
     "name": "stdout",
     "output_type": "stream",
     "text": [
      "Enter the number of terms in the Fibonacci series: 55\n",
      "Fibonacci Series:\n",
      "0 1 1 2 3 5 8 13 21 34 55 89 144 233 377 610 987 1597 2584 4181 6765 10946 17711 28657 46368 75025 121393 196418 317811 514229 832040 1346269 2178309 3524578 5702887 9227465 14930352 24157817 39088169 63245986 102334155 165580141 267914296 433494437 701408733 1134903170 1836311903 2971215073 4807526976 7778742049 12586269025 20365011074 32951280099 53316291173 86267571272 "
     ]
    }
   ],
   "source": [
    "def fibonacci(n):\n",
    "    fib_series = []\n",
    "    a, b = 0, 1\n",
    "    for _ in range(n):\n",
    "        fib_series.append(a)\n",
    "        a, b = b, a + b\n",
    "    return fib_series\n",
    "num_terms = int(input(\"Enter the number of terms in the Fibonacci series: \"))\n",
    "\n",
    "print(\"Fibonacci Series:\")\n",
    "for number in fibonacci(num_terms):\n",
    "    print(n9020.\n",
    "          umber, end=\" \")"
   ]
  },
  {
   "cell_type": "code",
   "execution_count": null,
   "id": "23698cf2",
   "metadata": {},
   "outputs": [],
   "source": [
    "\n"
   ]
  },
  {
   "cell_type": "code",
   "execution_count": null,
   "id": "ed500c2f",
   "metadata": {},
   "outputs": [],
   "source": []
  },
  {
   "cell_type": "code",
   "execution_count": null,
   "id": "791c6923",
   "metadata": {},
   "outputs": [],
   "source": []
  },
  {
   "cell_type": "code",
   "execution_count": null,
   "id": "a3727117",
   "metadata": {},
   "outputs": [],
   "source": []
  }
 ],
 "metadata": {
  "kernelspec": {
   "display_name": "Python 3 (ipykernel)",
   "language": "python",
   "name": "python3"
  },
  "language_info": {
   "codemirror_mode": {
    "name": "ipython",
    "version": 3
   },
   "file_extension": ".py",
   "mimetype": "text/x-python",
   "name": "python",
   "nbconvert_exporter": "python",
   "pygments_lexer": "ipython3",
   "version": "3.11.5"
  }
 },
 "nbformat": 4,
 "nbformat_minor": 5
}
